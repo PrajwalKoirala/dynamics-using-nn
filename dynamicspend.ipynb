{
  "nbformat": 4,
  "nbformat_minor": 0,
  "metadata": {
    "colab": {
      "name": "dynamicspend",
      "provenance": []
    },
    "kernelspec": {
      "name": "python3",
      "display_name": "Python 3"
    }
  },
  "cells": [
    {
      "cell_type": "code",
      "metadata": {
        "id": "jD3eITOUE6dT"
      },
      "source": [
        "import tensorflow.compat.v1 as tf\n",
        "tf.disable_v2_behavior()\n",
        "import numpy as np"
      ],
      "execution_count": null,
      "outputs": []
    },
    {
      "cell_type": "code",
      "metadata": {
        "id": "PQGp_pQKC3yr",
        "outputId": "49393db8-c203-4780-97ba-64d5c23df7f4",
        "colab": {
          "base_uri": "https://localhost:8080/"
        }
      },
      "source": [
        "from google.colab import drive\n",
        "drive.mount('/content/drive')"
      ],
      "execution_count": null,
      "outputs": [
        {
          "output_type": "stream",
          "text": [
            "Mounted at /content/drive\n"
          ],
          "name": "stdout"
        }
      ]
    },
    {
      "cell_type": "code",
      "metadata": {
        "id": "v2C8FEm6qzLB"
      },
      "source": [
        "tf.reset_default_graph()\n",
        "Xinput = tf.placeholder(dtype=tf.float32, shape=[1,200,200,3])\n",
        "convol1 = tf.keras.layers.Conv2D(8, (3,3), activation='relu', input_shape=(200, 200, 3))(Xinput)\n",
        "pool1 = tf.keras.layers.MaxPooling2D(2, 2)(convol1)\n",
        "convol2 = tf.keras.layers.Conv2D(16, (3,3), activation='relu')(pool1)\n",
        "pool2 = tf.keras.layers.MaxPooling2D(2, 2)(convol2)\n",
        "flat1 = tf.keras.layers.Flatten()(pool2)\n",
        "flat2 = tf.keras.layers.Dense(512, activation='relu')(flat1)\n",
        "Xout = tf.transpose(tf.keras.layers.Dense(2)(flat2))\n",
        "A = tf.get_variable(\"A\", [2,2], initializer = tf.random_normal_initializer(stddev = 0.1), dtype=tf.float32)\n",
        "Xnext_hat = tf.matmul(A, Xout) \n",
        "\n",
        "Xnext = tf.placeholder(dtype=tf.float32, shape=[2,1])\n",
        "Cost = tf.reduce_sum(tf.square(Xnext - Xnext_hat))\n",
        "train = tf.train.AdamOptimizer(learning_rate = 0.001).minimize(Cost)"
      ],
      "execution_count": null,
      "outputs": []
    },
    {
      "cell_type": "code",
      "metadata": {
        "id": "mGSshLXowqLf"
      },
      "source": [
        "sess = tf.Session()\n",
        "sess.run(tf.global_variables_initializer())"
      ],
      "execution_count": null,
      "outputs": []
    },
    {
      "cell_type": "code",
      "metadata": {
        "id": "tc4IxRns2362"
      },
      "source": [
        "for i in range 100:\n",
        "  xnext =  sess.run(Xout, feed_dict = {Xinput:image2.reshape((1,200,200,3))})\n",
        "\n",
        "  feed = {Xnext : xnext, Xinput : image1.reshape((1,200,200,3))}}\n",
        "  sess.run([train, Cost], feed_dict = feed) "
      ],
      "execution_count": null,
      "outputs": []
    },
    {
      "cell_type": "code",
      "metadata": {
        "id": "KSUptpEijw2I"
      },
      "source": [
        ""
      ],
      "execution_count": null,
      "outputs": []
    },
    {
      "cell_type": "code",
      "metadata": {
        "id": "52x5s07_p8_u"
      },
      "source": [
        "model = tf.keras.models.Sequential([\n",
        "    # The first convolution\n",
        "    tf.keras.layers.Conv2D(8, (3,3), activation='relu', input_shape=(300, 300, 3)),\n",
        "    tf.keras.layers.MaxPooling2D(2, 2),\n",
        "    # The second convolution\n",
        "    tf.keras.layers.Conv2D(16, (3,3), activation='relu'),\n",
        "    tf.keras.layers.MaxPooling2D(2,2),\n",
        "    # The third convolution\n",
        "    tf.keras.layers.Conv2D(32, (3,3), activation='relu'),\n",
        "    tf.keras.layers.MaxPooling2D(2,2),\n",
        "    # Flatten the results to feed into a DNN\n",
        "    tf.keras.layers.Flatten(),\n",
        "    # 512 neuron hidden layer\n",
        "    tf.keras.layers.Dense(512, activation='relu'),\n",
        "    # Only 1 output neuron. It will contain a value from 0-1 where 0 for 1 class ('horses') and 1 for the other ('humans')\n",
        "    tf.keras.layers.Dense(2)\n",
        "])"
      ],
      "execution_count": null,
      "outputs": []
    },
    {
      "cell_type": "code",
      "metadata": {
        "id": "Fh3SsNciVkbz"
      },
      "source": [
        ""
      ],
      "execution_count": null,
      "outputs": []
    },
    {
      "cell_type": "code",
      "metadata": {
        "id": "KgKGJsnyaD9E",
        "outputId": "900ff3ac-5ba4-418d-f987-f684d31204ea",
        "colab": {
          "base_uri": "https://localhost:8080/"
        }
      },
      "source": [
        "model.predict(a)"
      ],
      "execution_count": null,
      "outputs": [
        {
          "output_type": "stream",
          "text": [
            "WARNING:tensorflow:Model was constructed with shape (None, 1, 1, 5) for input Tensor(\"input_16:0\", shape=(None, 1, 1, 5), dtype=float32), but it was called on an input with incompatible shape (None, 1, 5).\n"
          ],
          "name": "stdout"
        },
        {
          "output_type": "execute_result",
          "data": {
            "text/plain": [
              "array([[[-7.7294974,  5.1913886]]], dtype=float32)"
            ]
          },
          "metadata": {
            "tags": []
          },
          "execution_count": 48
        }
      ]
    },
    {
      "cell_type": "code",
      "metadata": {
        "id": "6AEEIbi4W-rG"
      },
      "source": [
        ""
      ],
      "execution_count": null,
      "outputs": []
    }
  ]
}